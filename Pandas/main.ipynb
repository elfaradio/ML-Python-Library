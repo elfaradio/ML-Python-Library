{
 "cells": [
  {
   "cell_type": "markdown",
   "id": "22238de8",
   "metadata": {},
   "source": [
    "# Series\n"
   ]
  },
  {
   "cell_type": "code",
   "execution_count": 1,
   "id": "ed23c1b0",
   "metadata": {},
   "outputs": [
    {
     "name": "stdout",
     "output_type": "stream",
     "text": [
      "a    1.0\n",
      "b    2.0\n",
      "c    3.0\n",
      "d    4.0\n",
      "Name: list, dtype: float64\n",
      "1.0\n",
      "0    2.0\n",
      "1    4.0\n",
      "2    6.0\n",
      "3    8.0\n",
      "4    NaN\n",
      "5    NaN\n",
      "6    NaN\n",
      "7    NaN\n",
      "dtype: float64\n"
     ]
    },
    {
     "name": "stderr",
     "output_type": "stream",
     "text": [
      "/tmp/ipykernel_681/2687218729.py:7: FutureWarning: Series.__getitem__ treating keys as positions is deprecated. In a future version, integer keys will always be treated as labels (consistent with DataFrame behavior). To access a value by position, use `ser.iloc[pos]`\n",
      "  print(b[0])\n"
     ]
    }
   ],
   "source": [
    "import pandas as pd\n",
    "import numpy as np\n",
    "\n",
    "a = [1, 2, 3, 4]\n",
    "b = pd.Series(a, name=\"list\", index=['a', 'b', 'c', 'd'], dtype=float)\n",
    "print(b)\n",
    "print(b[0])\n",
    "\n",
    "e = [1, 2, 3, 4]\n",
    "f = pd.Series(e)\n",
    "c = [1, 2, 3, 4, 5, 5, 6, 6]\n",
    "d = pd.Series(c)\n",
    "print(d+f)  # Return sometimes nan which is differ from numpy"
   ]
  },
  {
   "cell_type": "markdown",
   "id": "b4ce8ab2",
   "metadata": {},
   "source": [
    "## Basic Dataframe\n"
   ]
  },
  {
   "cell_type": "code",
   "execution_count": null,
   "id": "7d876633",
   "metadata": {},
   "outputs": [
    {
     "name": "stdout",
     "output_type": "stream",
     "text": [
      "    0\n",
      "0   1\n",
      "1  23\n",
      "2   4\n",
      "3   5 <class 'pandas.core.frame.DataFrame'>\n",
      "   A\n",
      "0  1\n",
      "1  2\n",
      "2  3\n",
      "3  4\n",
      "4  5 \n",
      "\n",
      "3\n"
     ]
    },
    {
     "data": {
      "text/plain": [
       "[0, 1, 2, 3, 4]"
      ]
     },
     "execution_count": 4,
     "metadata": {},
     "output_type": "execute_result"
    }
   ],
   "source": [
    "l = [1, 23, 4, 5]\n",
    "ll = pd.DataFrame(l)\n",
    "print(ll, type(ll))\n",
    "\n",
    "dic = {\"A\": [1, 2, 3, 4, 5], \"B\": [1, 2, 3, 4, 5]}\n",
    "dc = pd.DataFrame(dic, columns=[\"A\"])  # just showing A\n",
    "print(dc, \"\\n\")\n",
    "print(dc[\"A\"][2])  # 3\n",
    "dc.index.tolist()\n",
    "# pd.read_feather()"
   ]
  },
  {
   "cell_type": "code",
   "execution_count": null,
   "id": "be93f9e0",
   "metadata": {},
   "outputs": [],
   "source": []
  },
  {
   "cell_type": "markdown",
   "id": "dfc1b31c",
   "metadata": {},
   "source": [
    "## Arithmetic Operators"
   ]
  },
  {
   "cell_type": "code",
   "execution_count": 19,
   "id": "0f352b14",
   "metadata": {},
   "outputs": [
    {
     "name": "stdout",
     "output_type": "stream",
     "text": [
      "    A  B\n",
      "0  12  1\n",
      "1   3  2\n",
      "2   4  3\n",
      "3   5  4\n",
      "    A  B   C\n",
      "0  12  1  13\n",
      "1   3  2   5\n",
      "2   4  3   7\n",
      "3   5  4   9\n",
      "    A  B   C   BOOL\n",
      "0  12  1  13   True\n",
      "1   3  2   5  False\n",
      "2   4  3   7  False\n",
      "3   5  4   9  False\n"
     ]
    }
   ],
   "source": [
    "a = pd.DataFrame({\"A\": [12, 3, 4, 5], \"B\": [1, 2, 3, 4]})\n",
    "print(a)\n",
    "\n",
    "a[\"C\"] = a[\"A\"]+a[\"B\"]  # new c column  using addition\n",
    "print(a)\n",
    "\n",
    "\n",
    "a[\"BOOL\"] = a[\"A\"] >= 11\n",
    "print(a)"
   ]
  },
  {
   "cell_type": "markdown",
   "id": "a2ac0f4d",
   "metadata": {},
   "source": [
    "## Delete and Insert"
   ]
  },
  {
   "cell_type": "code",
   "execution_count": 28,
   "id": "f8493eb7",
   "metadata": {},
   "outputs": [
    {
     "name": "stdout",
     "output_type": "stream",
     "text": [
      "Original DataFrame:\n",
      "   A  B\n",
      "0  1  4\n",
      "1  2  5\n",
      "2  3  6 \n",
      "\n",
      "After inserting column C:\n",
      "   A   C  B\n",
      "0  1  10  4\n",
      "1  2  20  5\n",
      "2  3  30  6 \n",
      "\n",
      "After inserting a new row:\n",
      "   A   C  B\n",
      "0  1  10  4\n",
      "1  2  20  5\n",
      "2  3  30  6\n",
      "3  7  70  9 \n",
      "\n",
      "After updating cell (row 1, col B):\n",
      "   A   C   B\n",
      "0  1  10   4\n",
      "1  2  20  55\n",
      "2  3  30   6\n",
      "3  7  70   9 \n",
      "\n",
      "After deleting column C:\n",
      "   A   B\n",
      "0  1   4\n",
      "1  2  55\n",
      "2  3   6\n",
      "3  7   9 \n",
      "\n",
      "After deleting row with index 0:\n",
      "   A   B\n",
      "1  2  55\n",
      "2  3   6\n",
      "3  7   9 \n",
      "\n",
      "After deleting rows where A < 3:\n",
      "   A  B\n",
      "2  3  6\n",
      "3  7  9 \n",
      "\n",
      "After setting a cell to NaN (deleting value):\n",
      "   A    B\n",
      "2  3  NaN\n",
      "3  7  9.0 \n",
      "\n"
     ]
    }
   ],
   "source": [
    "\n",
    "# --- Create sample DataFrame ---\n",
    "df = pd.DataFrame({\n",
    "    \"A\": [1, 2, 3],\n",
    "    \"B\": [4, 5, 6]\n",
    "})\n",
    "\n",
    "print(\"Original DataFrame:\")\n",
    "print(df, \"\\n\")\n",
    "\n",
    "# --- INSERT OPERATIONS ---\n",
    "\n",
    "# Insert a new column at position 1\n",
    "df.insert(1, \"C\", [10, 20, 30])\n",
    "print(\"After inserting column C:\")\n",
    "print(df, \"\\n\")\n",
    "\n",
    "# Insert a new row (at the end)\n",
    "df.loc[len(df)] = [7, 70, 9]\n",
    "print(\"After inserting a new row:\")\n",
    "print(df, \"\\n\")\n",
    "\n",
    "# Insert (update) a single cell\n",
    "df.at[1, \"B\"] = 55\n",
    "print(\"After updating cell (row 1, col B):\")\n",
    "print(df, \"\\n\")\n",
    "\n",
    "# --- DELETE OPERATIONS ---\n",
    "\n",
    "# Delete a column\n",
    "df = df.drop(columns=[\"C\"])\n",
    "print(\"After deleting column C:\")\n",
    "print(df, \"\\n\")\n",
    "\n",
    "# Delete a row by index\n",
    "df = df.drop(index=0)\n",
    "print(\"After deleting row with index 0:\")\n",
    "print(df, \"\\n\")\n",
    "\n",
    "# Delete based on condition (rows where A < 3)\n",
    "df = df[df[\"A\"] >= 3]\n",
    "print(\"After deleting rows where A < 3:\")\n",
    "print(df, \"\\n\")\n",
    "\n",
    "# Delete a single cell (set as NaN)\n",
    "df.at[2, \"B\"] = np.nan\n",
    "print(\"After setting a cell to NaN (deleting value):\")\n",
    "print(df, \"\\n\")"
   ]
  },
  {
   "cell_type": "markdown",
   "id": "ffc8e73d",
   "metadata": {},
   "source": [
    "## CSV FILES\n"
   ]
  },
  {
   "cell_type": "code",
   "execution_count": 4,
   "id": "c4169a7b",
   "metadata": {},
   "outputs": [
    {
     "name": "stdout",
     "output_type": "stream",
     "text": [
      "   ID     Name  Score\n",
      "0   1    Alice     85\n",
      "1   2      Bob     90\n",
      "2   3  Charlie     78\n",
      "3   4    David     92\n",
      "CSV file created successfully!\n",
      "New row added!\n",
      "      Name\n",
      "0    Alice\n",
      "1      Bob\n",
      "2  Charlie\n",
      "3    David\n",
      "4      Eva\n",
      "RangeIndex(start=0, stop=5, step=1)\n"
     ]
    }
   ],
   "source": [
    "# Create some sample data\n",
    "data = {\n",
    "    \"ID\": [1, 2, 3, 4],\n",
    "    \"Name\": [\"Alice\", \"Bob\", \"Charlie\", \"David\"],\n",
    "    \"Score\": [85, 90, 78, 92]\n",
    "}\n",
    "\n",
    "# Convert to DataFrame\n",
    "df = pd.DataFrame(data)\n",
    "\n",
    "print(df)\n",
    "df.to_csv(\"students.csv\", index=False)\n",
    "\n",
    "print(\"CSV file created successfully!\")\n",
    "\n",
    "\n",
    "# New row to append\n",
    "new_data = pd.DataFrame({\"ID\": [5], \"Name\": [\"Eva\"], \"Score\": [88]})\n",
    "\n",
    "# Append and save again\n",
    "df = pd.concat([df, new_data], ignore_index=True)\n",
    "df.to_csv(\"students.csv\", index=False)\n",
    "\n",
    "print(\"New row added!\")\n",
    "\n",
    "\n",
    "# Load CSV file into DataFrame\n",
    "df_loaded = pd.read_csv(\"students.csv\", usecols=[\"Name\"])  # Name Column\n",
    "\n",
    "print(df_loaded)\n",
    "print(df_loaded.index)"
   ]
  },
  {
   "cell_type": "code",
   "execution_count": null,
   "id": "aae1e67e",
   "metadata": {},
   "outputs": [],
   "source": [
    "# for excel\n",
    "a = pd.read_excel()\n",
    "pd.tail"
   ]
  },
  {
   "cell_type": "code",
   "execution_count": null,
   "id": "edbb8a6c",
   "metadata": {},
   "outputs": [],
   "source": []
  }
 ],
 "metadata": {
  "kernelspec": {
   "display_name": "venv",
   "language": "python",
   "name": "python3"
  },
  "language_info": {
   "codemirror_mode": {
    "name": "ipython",
    "version": 3
   },
   "file_extension": ".py",
   "mimetype": "text/x-python",
   "name": "python",
   "nbconvert_exporter": "python",
   "pygments_lexer": "ipython3",
   "version": "3.12.11"
  }
 },
 "nbformat": 4,
 "nbformat_minor": 5
}
