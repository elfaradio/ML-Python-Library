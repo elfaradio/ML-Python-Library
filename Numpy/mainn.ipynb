{
 "cells": [
  {
   "cell_type": "code",
   "execution_count": 2,
   "id": "2dedc1f4",
   "metadata": {},
   "outputs": [],
   "source": [
    "import numpy as np"
   ]
  },
  {
   "cell_type": "code",
   "execution_count": null,
   "id": "90a6b652",
   "metadata": {},
   "outputs": [
    {
     "name": "stdout",
     "output_type": "stream",
     "text": [
      "[1. 3. 4.]\n",
      "<class 'numpy.ndarray'>\n",
      "(3,)\n",
      "[[1 2 3]\n",
      " [4 5 6]]\n",
      "(2, 3)\n",
      "[[0. 0. 0.]\n",
      " [0. 0. 0.]]\n",
      "[[1. 1. 1. 1.]\n",
      " [1. 1. 1. 1.]\n",
      " [1. 1. 1. 1.]]\n",
      "[8 8 8 8]\n",
      "[[1. 0. 0. 0.]\n",
      " [0. 1. 0. 0.]\n",
      " [0. 0. 1. 0.]\n",
      " [0. 0. 0. 1.]]\n",
      "[[0.20339983 0.75747518 0.69736685 0.009369  ]\n",
      " [0.19496167 0.82967201 0.4139528  0.82167453]\n",
      " [0.58103792 0.25933712 0.19839925 0.5867046 ]\n",
      " [0.21746302 0.70472881 0.28968828 0.97770875]]\n",
      "[[ 4 20 69  9 40 35]\n",
      " [30 49  4 26 61 16]\n",
      " [46  6 18 59 51 90]\n",
      " [44 61 99 27 11 68]\n",
      " [58 44 75 31 97 45]]\n",
      "[ 1.    3.25  5.5   7.75 10.  ]\n",
      "[1 3 5 7 9]\n",
      "<class 'numpy.ndarray'>\n",
      "(3, 4)\n",
      "2\n",
      "float64\n",
      "[3 5 7]\n",
      "[0.5        0.66666667 0.75      ]\n"
     ]
    }
   ],
   "source": [
    "a = np.array([1, 3, 4], dtype=float)  # default type int\n",
    "\n",
    "print(a)\n",
    "\n",
    "print(type(a))\n",
    "\n",
    "print(a.shape)  # 3\n",
    "\n",
    "b = np.array([(1, 2, 3), (4, 5, 6)])\n",
    "\n",
    "print(b)\n",
    "\n",
    "print(b.shape)  # (2,3) row and column\n",
    "\n",
    "c = np.zeros((2, 3))  # 2d arrays of zero  for 1d (2,)--< (0,0)\n",
    "print(c)\n",
    "\n",
    "d = np.ones((3, 4))\n",
    "print(d)\n",
    "\n",
    "e = np.full((4,), 8)  # 8 8 8 8\n",
    "print(e)\n",
    "\n",
    "f = np.eye(4)  # Identity Matrixx of 4X4\n",
    "print(f)\n",
    "\n",
    "g = np.random.random((4, 4))\n",
    "print(g)\n",
    "\n",
    "# 1 theke 100 er moddhe random value for 5X6 matrix\n",
    "h = np.random.randint(1, 100, (5, 6))\n",
    "print(h)\n",
    "\n",
    "# 1 theke 10 er moddhe 5 ta vlaue with same space   1.    3.25  5.5   7.75 10.\n",
    "i = np.linspace(1, 10, 5)\n",
    "print(i)\n",
    "\n",
    "j = np.arange(1, 10, 2)  # 1 3 5 7 9\n",
    "print(j)\n",
    "\n",
    "\n",
    "lst = [1, 2, 3, 4]\n",
    "npar = np.asarray(lst)  # list to numpy array\n",
    "print(type(npar))\n",
    "\n",
    "\n",
    "# Analysis\n",
    "print(d.shape)\n",
    "print(d.ndim)  # dimension\n",
    "print(d.dtype)  # type of data\n",
    "\n",
    "\n",
    "# Math\n",
    "\n",
    "x = np.array([1, 2, 3])\n",
    "y = np.array([2, 3, 4])\n",
    "z = x+y  # 3,5,7 which is not possible in list\n",
    "z = x-y\n",
    "z = x*y\n",
    "z = x/y\n",
    "print(np.add(x, y))\n",
    "print(z)\n",
    "\n",
    "# Manipulation\n",
    "\n",
    "t = np.transpose(x)  # Transpose matrix or x.T\n",
    "\n",
    "# tt = t.reshape((2, 3))  # Reshaping"
   ]
  },
  {
   "cell_type": "code",
   "execution_count": null,
   "id": "00be647b",
   "metadata": {},
   "outputs": [
    {
     "name": "stdout",
     "output_type": "stream",
     "text": [
      "[[1 2]\n",
      " [3 4]]\n",
      "[[ 0  1  2  3]\n",
      " [ 4  5  6  7]\n",
      " [ 8  9 10 11]]\n",
      "[[ 0  4  8]\n",
      " [ 1  5  9]\n",
      " [ 2  6 10]\n",
      " [ 3  7 11]]\n",
      "[[ 0  1  2  3]\n",
      " [ 4  5  6  7]\n",
      " [ 8  9 10 11]]\n",
      "[ 0  1  2  3  4  5  6  7  8  9 10 11]\n"
     ]
    }
   ],
   "source": [
    "matrix = np.array([[1, 2], [3, 4]])\n",
    "print(matrix)\n",
    "\n",
    "a = np.arange(12)\n",
    "# 3 by 4 matrix and if a.reshape() then original a no change ,,just copy change\n",
    "a = a.reshape((3, 4))\n",
    "print(a)\n",
    "a.transpose()  # no change because it work on copy\n",
    "b = a.transpose()\n",
    "print(b)  # work\n",
    "print(a)\n",
    "a = a.flatten()  # bacck to original work on copy\n",
    "# flatten and ravel are same but  raven return view instead of copy\n",
    "print(a.ravel())  # return view instead of copy"
   ]
  },
  {
   "cell_type": "code",
   "execution_count": null,
   "id": "7ff921e0",
   "metadata": {},
   "outputs": [
    {
     "name": "stdout",
     "output_type": "stream",
     "text": [
      "Specific element 6\n",
      "Entire row:  [4 5 6]\n",
      "Entire row:  [2 5 8]\n"
     ]
    }
   ],
   "source": [
    "\n",
    "a = np.array([[1, 2, 3],\n",
    "              [4, 5, 6],\n",
    "              [7, 8, 9]])\n",
    "print(\"Specific element\", a[1, 2])\n",
    "print(\"Entire row: \", a[1])\n",
    "print(\"Entire col: \", a[:, 1])"
   ]
  },
  {
   "cell_type": "markdown",
   "id": "04e254ef",
   "metadata": {},
   "source": [
    "Sorting\n"
   ]
  },
  {
   "cell_type": "code",
   "execution_count": 23,
   "id": "5b7b5055",
   "metadata": {},
   "outputs": [
    {
     "name": "stdout",
     "output_type": "stream",
     "text": [
      "Sorted Array [1 1 2 3 4 5 6 9]\n",
      "Sorted 2D array by column [[1 1]\n",
      " [2 2]\n",
      " [3 3]]\n"
     ]
    }
   ],
   "source": [
    "a = np.array([3, 1, 4, 1, 5, 9, 2, 6])\n",
    "print(\"Sorted Array\", np.sort(a))\n",
    "\n",
    "b = np.array([[3, 1], [1, 2], [2, 3]])\n",
    "print(\"Sorted 2D array by column\", np.sort(b, axis=0))"
   ]
  },
  {
   "cell_type": "markdown",
   "id": "278baa04",
   "metadata": {},
   "source": [
    "Filter\n"
   ]
  },
  {
   "cell_type": "code",
   "execution_count": 25,
   "id": "912082b0",
   "metadata": {},
   "outputs": [
    {
     "name": "stdout",
     "output_type": "stream",
     "text": [
      "Even n [ 2  4  6  8 10]\n",
      "Numbers greater than 5  [ 6  7  8  9 10]\n"
     ]
    }
   ],
   "source": [
    "n = np.array([1, 2, 3, 4, 5, 6, 7, 8, 9, 10])\n",
    "ev = n[n % 2 == 0]\n",
    "print(\"Even n\", ev)\n",
    "mask = n > 5\n",
    "print(\"Numbers greater than 5 \", n[mask])"
   ]
  },
  {
   "cell_type": "markdown",
   "id": "73a9b148",
   "metadata": {},
   "source": [
    "Fancy"
   ]
  },
  {
   "cell_type": "code",
   "execution_count": 27,
   "id": "249088ab",
   "metadata": {},
   "outputs": [
    {
     "name": "stdout",
     "output_type": "stream",
     "text": [
      "[1 3 5]\n",
      "(array([5, 6, 7, 8, 9]),)\n",
      "NP where [ 6  7  8  9 10]\n",
      "['false' 'false' 'false' 'false' 'false' 'true' 'true' 'true' 'true'\n",
      " 'true']\n"
     ]
    }
   ],
   "source": [
    "\n",
    "n = np.array([1, 2, 3, 4, 5, 6, 7, 8, 9, 10])\n",
    "\n",
    "idx = [0, 2, 4]\n",
    "print(n[idx])\n",
    "\n",
    "ans = np.where(n > 5)\n",
    "print(ans)  # indies\n",
    "print(\"NP where\", n[ans])\n",
    "\n",
    "\n",
    "b = np.where(n > 5, \"true\",  \"false\")\n",
    "print(b)"
   ]
  },
  {
   "cell_type": "markdown",
   "id": "73c11447",
   "metadata": {},
   "source": [
    "Adding and removing data"
   ]
  },
  {
   "cell_type": "code",
   "execution_count": 29,
   "id": "92b14b95",
   "metadata": {},
   "outputs": [
    {
     "name": "stdout",
     "output_type": "stream",
     "text": [
      "[1 2 3 4 5 6]\n"
     ]
    }
   ],
   "source": [
    "a = np.array([1, 2, 3])\n",
    "b = np.array([4, 5, 6])\n",
    "\n",
    "c = np.concatenate((a, b))\n",
    "print(c)"
   ]
  },
  {
   "cell_type": "markdown",
   "id": "eed55fb4",
   "metadata": {},
   "source": [
    "\n",
    "array compatibilty\n"
   ]
  },
  {
   "cell_type": "code",
   "execution_count": 30,
   "id": "7bb5d416",
   "metadata": {},
   "outputs": [
    {
     "name": "stdout",
     "output_type": "stream",
     "text": [
      "Compatibility shapes False\n"
     ]
    }
   ],
   "source": [
    "\n",
    "a = np.array([1, 2, 3])\n",
    "b = np.array([4, 5, 6, 7])\n",
    "c = np.array([7, 8, 9])\n",
    "\n",
    "print(\"Compatibility shapes\", a.shape == b.shape)"
   ]
  },
  {
   "cell_type": "code",
   "execution_count": 3,
   "id": "db6457f0",
   "metadata": {},
   "outputs": [
    {
     "name": "stdout",
     "output_type": "stream",
     "text": [
      "[[1 2]\n",
      " [3 4]]\n",
      "[[1 2]\n",
      " [3 4]\n",
      " [5 6]]\n",
      "With new column [[1 2 7]\n",
      " [3 4 8]]\n",
      "Array after deletion:  [1 2 4 5]\n"
     ]
    }
   ],
   "source": [
    "\n",
    "original = np.array([[1, 2], [3, 4]])\n",
    "new_row = np.array([[5, 6]])\n",
    "\n",
    "with_new_row = np.vstack((original, new_row))\n",
    "print(original)\n",
    "print(with_new_row)\n",
    "\n",
    "new_col = np.array([[7], [8]])\n",
    "with_new_col = np.hstack((original, new_col))\n",
    "print(\"With new column\", with_new_col)\n",
    "\n",
    "arr = np.array([1, 2, 3, 4, 5])\n",
    "deleted = np.delete(arr, 2)\n",
    "print(\"Array after deletion: \", deleted)"
   ]
  }
 ],
 "metadata": {
  "kernelspec": {
   "display_name": "venv",
   "language": "python",
   "name": "python3"
  },
  "language_info": {
   "codemirror_mode": {
    "name": "ipython",
    "version": 3
   },
   "file_extension": ".py",
   "mimetype": "text/x-python",
   "name": "python",
   "nbconvert_exporter": "python",
   "pygments_lexer": "ipython3",
   "version": "3.12.11"
  }
 },
 "nbformat": 4,
 "nbformat_minor": 5
}
