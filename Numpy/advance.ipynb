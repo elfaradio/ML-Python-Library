{
 "cells": [
  {
   "cell_type": "markdown",
   "id": "5a0bf18c",
   "metadata": {},
   "source": [
    "Advance operation with Business examples\n"
   ]
  },
  {
   "cell_type": "code",
   "execution_count": null,
   "id": "d26491ee",
   "metadata": {},
   "outputs": [],
   "source": [
    "import numpy as np\n",
    "import matplotlib.pyplot as plt"
   ]
  },
  {
   "cell_type": "code",
   "execution_count": 5,
   "id": "1a69edc1",
   "metadata": {},
   "outputs": [
    {
     "name": "stdout",
     "output_type": "stream",
     "text": [
      "==== Zomato sales analysis ==== \n",
      "\n",
      " Sales data shape (5, 5)\n",
      "\n",
      " Sample data for 1st 3 restau:  [[     1 150000 180000 220000 250000]\n",
      " [     2 120000 140000 160000 190000]\n",
      " [     3 200000 230000 260000 300000]]\n"
     ]
    }
   ],
   "source": [
    "\n",
    "\n",
    "data = np.array([\n",
    "    [1, 150000, 180000, 220000, 250000],\n",
    "    [2, 120000, 140000, 160000, 190000],\n",
    "    [3, 200000, 230000, 260000, 300000],\n",
    "    [4, 180000, 210000, 240000, 270000],\n",
    "    [5, 160000, 185000, 205000, 230000]\n",
    "])\n",
    "\n",
    "print(\"==== Zomato sales analysis ==== \")\n",
    "print(\"\\n Sales data shape\", data.shape)\n",
    "print(\"\\n Sample data for 1st 3 restau: \", data[0:3])"
   ]
  },
  {
   "cell_type": "code",
   "execution_count": null,
   "id": "5dc68b08",
   "metadata": {},
   "outputs": [
    {
     "name": "stdout",
     "output_type": "stream",
     "text": [
      "[     15  810000  945000 1085000 1240000]\n",
      "[ 810000  945000 1085000 1240000]\n",
      "[150000 120000 200000 180000 160000]\n",
      "[200000 230000 260000 300000]\n",
      "[200000. 152500. 247500. 225000. 195000.]\n"
     ]
    }
   ],
   "source": [
    "\n",
    "\n",
    "# total sales per year\n",
    "print(np.sum(data, axis=0))\n",
    "yeary_total = np.sum(data[:, 1:], axis=0)  # axis 0 means column\n",
    "print(yeary_total)\n",
    "\n",
    "# Minimum sales per restaurant\n",
    "min_sales = np.min(data[:, 1:], axis=1)\n",
    "print(min_sales)\n",
    "\n",
    "# Maximum sales per year\n",
    "max_sales = np.max(data[:, 1:], axis=0)\n",
    "print(max_sales)\n",
    "\n",
    "# Average sales per restautant\n",
    "avg_sales = np.mean(data[:, 1:], axis=1)\n",
    "print(avg_sales)"
   ]
  },
  {
   "cell_type": "code",
   "execution_count": null,
   "id": "284c58c8",
   "metadata": {},
   "outputs": [],
   "source": [
    "cumsum = np.cumsum(sales_data[:, 1:], axis=1)\n",
    "print(cumsum)\n",
    "\n",
    "plt.figure(figsize=(8, 6))\n",
    "plt.plot(np.mean(cumsum, axis=0))\n",
    "plt.title(\"Average cumulative sales accross all restaurant \")\n",
    "plt.xlabel(\"Years\")\n",
    "plt.ylabel(\"Sales\")\n",
    "plt.grid(True)\n",
    "plt.show()"
   ]
  }
 ],
 "metadata": {
  "kernelspec": {
   "display_name": "venv",
   "language": "python",
   "name": "python3"
  },
  "language_info": {
   "codemirror_mode": {
    "name": "ipython",
    "version": 3
   },
   "file_extension": ".py",
   "mimetype": "text/x-python",
   "name": "python",
   "nbconvert_exporter": "python",
   "pygments_lexer": "ipython3",
   "version": "3.12.11"
  }
 },
 "nbformat": 4,
 "nbformat_minor": 5
}
